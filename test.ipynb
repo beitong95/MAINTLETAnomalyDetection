{
 "cells": [
  {
   "cell_type": "code",
   "execution_count": 8,
   "id": "901ecbcd-baaf-4cb9-bdee-3a98e323ad14",
   "metadata": {},
   "outputs": [],
   "source": [
    "from modelCommon import *\n"
   ]
  },
  {
   "cell_type": "code",
   "execution_count": 9,
   "id": "952ab634-bb29-4680-9c8a-22874987422a",
   "metadata": {},
   "outputs": [
    {
     "name": "stdout",
     "output_type": "stream",
     "text": [
      "no data\n",
      "no model\n",
      "no keras model\n"
     ]
    }
   ],
   "source": [
    "cleanKeras()"
   ]
  },
  {
   "cell_type": "code",
   "execution_count": null,
   "id": "562e33e5-c921-48b5-aca9-c2edbdb76906",
   "metadata": {},
   "outputs": [],
   "source": []
  }
 ],
 "metadata": {
  "kernelspec": {
   "display_name": "Python 3 (ipykernel)",
   "language": "python",
   "name": "python3"
  },
  "language_info": {
   "codemirror_mode": {
    "name": "ipython",
    "version": 3
   },
   "file_extension": ".py",
   "mimetype": "text/x-python",
   "name": "python",
   "nbconvert_exporter": "python",
   "pygments_lexer": "ipython3",
   "version": "3.9.13"
  }
 },
 "nbformat": 4,
 "nbformat_minor": 5
}
